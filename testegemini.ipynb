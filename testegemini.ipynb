{
  "nbformat": 4,
  "nbformat_minor": 0,
  "metadata": {
    "colab": {
      "provenance": [],
      "authorship_tag": "ABX9TyOsc3hsb96HZY0q0go3YAnO",
      "include_colab_link": true
    },
    "kernelspec": {
      "name": "python3",
      "display_name": "Python 3"
    },
    "language_info": {
      "name": "python"
    }
  },
  "cells": [
    {
      "cell_type": "markdown",
      "metadata": {
        "id": "view-in-github",
        "colab_type": "text"
      },
      "source": [
        "<a href=\"https://colab.research.google.com/github/Adriano-Felisberto/exerc-cio-de-POO-com-java/blob/master/testegemini.ipynb\" target=\"_parent\"><img src=\"https://colab.research.google.com/assets/colab-badge.svg\" alt=\"Open In Colab\"/></a>"
      ]
    },
    {
      "cell_type": "code",
      "execution_count": null,
      "metadata": {
        "colab": {
          "base_uri": "https://localhost:8080/"
        },
        "id": "WBdZlfD9wFfi",
        "outputId": "6e505c19-6f27-4c8f-ae60-68ef740d3d71"
      },
      "outputs": [
        {
          "output_type": "stream",
          "name": "stdout",
          "text": [
            "Requirement already satisfied: google-generativeai in /usr/local/lib/python3.10/dist-packages (0.5.2)\n",
            "Requirement already satisfied: google-ai-generativelanguage==0.6.2 in /usr/local/lib/python3.10/dist-packages (from google-generativeai) (0.6.2)\n",
            "Requirement already satisfied: google-api-core in /usr/local/lib/python3.10/dist-packages (from google-generativeai) (2.11.1)\n",
            "Requirement already satisfied: google-api-python-client in /usr/local/lib/python3.10/dist-packages (from google-generativeai) (2.84.0)\n",
            "Requirement already satisfied: google-auth>=2.15.0 in /usr/local/lib/python3.10/dist-packages (from google-generativeai) (2.27.0)\n",
            "Requirement already satisfied: protobuf in /usr/local/lib/python3.10/dist-packages (from google-generativeai) (3.20.3)\n",
            "Requirement already satisfied: pydantic in /usr/local/lib/python3.10/dist-packages (from google-generativeai) (2.7.0)\n",
            "Requirement already satisfied: tqdm in /usr/local/lib/python3.10/dist-packages (from google-generativeai) (4.66.2)\n",
            "Requirement already satisfied: typing-extensions in /usr/local/lib/python3.10/dist-packages (from google-generativeai) (4.11.0)\n",
            "Requirement already satisfied: proto-plus<2.0.0dev,>=1.22.3 in /usr/local/lib/python3.10/dist-packages (from google-ai-generativelanguage==0.6.2->google-generativeai) (1.23.0)\n",
            "Requirement already satisfied: cachetools<6.0,>=2.0.0 in /usr/local/lib/python3.10/dist-packages (from google-auth>=2.15.0->google-generativeai) (5.3.3)\n",
            "Requirement already satisfied: pyasn1-modules>=0.2.1 in /usr/local/lib/python3.10/dist-packages (from google-auth>=2.15.0->google-generativeai) (0.4.0)\n",
            "Requirement already satisfied: rsa<5,>=3.1.4 in /usr/local/lib/python3.10/dist-packages (from google-auth>=2.15.0->google-generativeai) (4.9)\n",
            "Requirement already satisfied: googleapis-common-protos<2.0.dev0,>=1.56.2 in /usr/local/lib/python3.10/dist-packages (from google-api-core->google-generativeai) (1.63.0)\n",
            "Requirement already satisfied: requests<3.0.0.dev0,>=2.18.0 in /usr/local/lib/python3.10/dist-packages (from google-api-core->google-generativeai) (2.31.0)\n",
            "Requirement already satisfied: httplib2<1dev,>=0.15.0 in /usr/local/lib/python3.10/dist-packages (from google-api-python-client->google-generativeai) (0.22.0)\n",
            "Requirement already satisfied: google-auth-httplib2>=0.1.0 in /usr/local/lib/python3.10/dist-packages (from google-api-python-client->google-generativeai) (0.1.1)\n",
            "Requirement already satisfied: uritemplate<5,>=3.0.1 in /usr/local/lib/python3.10/dist-packages (from google-api-python-client->google-generativeai) (4.1.1)\n",
            "Requirement already satisfied: annotated-types>=0.4.0 in /usr/local/lib/python3.10/dist-packages (from pydantic->google-generativeai) (0.6.0)\n",
            "Requirement already satisfied: pydantic-core==2.18.1 in /usr/local/lib/python3.10/dist-packages (from pydantic->google-generativeai) (2.18.1)\n",
            "Requirement already satisfied: grpcio<2.0dev,>=1.33.2 in /usr/local/lib/python3.10/dist-packages (from google-api-core->google-generativeai) (1.62.2)\n",
            "Requirement already satisfied: grpcio-status<2.0.dev0,>=1.33.2 in /usr/local/lib/python3.10/dist-packages (from google-api-core->google-generativeai) (1.48.2)\n",
            "Requirement already satisfied: pyparsing!=3.0.0,!=3.0.1,!=3.0.2,!=3.0.3,<4,>=2.4.2 in /usr/local/lib/python3.10/dist-packages (from httplib2<1dev,>=0.15.0->google-api-python-client->google-generativeai) (3.1.2)\n",
            "Requirement already satisfied: pyasn1<0.7.0,>=0.4.6 in /usr/local/lib/python3.10/dist-packages (from pyasn1-modules>=0.2.1->google-auth>=2.15.0->google-generativeai) (0.6.0)\n",
            "Requirement already satisfied: charset-normalizer<4,>=2 in /usr/local/lib/python3.10/dist-packages (from requests<3.0.0.dev0,>=2.18.0->google-api-core->google-generativeai) (3.3.2)\n",
            "Requirement already satisfied: idna<4,>=2.5 in /usr/local/lib/python3.10/dist-packages (from requests<3.0.0.dev0,>=2.18.0->google-api-core->google-generativeai) (3.7)\n",
            "Requirement already satisfied: urllib3<3,>=1.21.1 in /usr/local/lib/python3.10/dist-packages (from requests<3.0.0.dev0,>=2.18.0->google-api-core->google-generativeai) (2.0.7)\n",
            "Requirement already satisfied: certifi>=2017.4.17 in /usr/local/lib/python3.10/dist-packages (from requests<3.0.0.dev0,>=2.18.0->google-api-core->google-generativeai) (2024.2.2)\n"
          ]
        }
      ],
      "source": [
        "!pip install -U google-generativeai\n",
        "import google.generativeai as genai\n",
        "from google.colab import userdata"
      ]
    },
    {
      "cell_type": "code",
      "source": [
        "\n",
        "GOOGLE_API_KEY=userdata.get('GOOGLE_API_KEY')\n",
        "genai.configure(api_key=GOOGLE_API_KEY)\n"
      ],
      "metadata": {
        "id": "gOMClsVOyL5K"
      },
      "execution_count": null,
      "outputs": []
    },
    {
      "cell_type": "code",
      "source": [
        "for m in genai.list_models():\n",
        "  if 'generateContent' in m.supported_generation_methods:\n",
        "    print(m.name)"
      ],
      "metadata": {
        "colab": {
          "base_uri": "https://localhost:8080/",
          "height": 138
        },
        "id": "SadnQsj1zDEq",
        "outputId": "fefe7e1a-bb43-453f-cf0c-a114d67b788a"
      },
      "execution_count": null,
      "outputs": [
        {
          "output_type": "stream",
          "name": "stdout",
          "text": [
            "models/gemini-1.0-pro\n",
            "models/gemini-1.0-pro-001\n",
            "models/gemini-1.0-pro-latest\n",
            "models/gemini-1.0-pro-vision-latest\n",
            "models/gemini-1.5-pro-latest\n",
            "models/gemini-pro\n",
            "models/gemini-pro-vision\n"
          ]
        }
      ]
    },
    {
      "cell_type": "code",
      "source": [
        "model = genai.GenerativeModel('gemini-1.0-pro')\n"
      ],
      "metadata": {
        "id": "KS_rL2kGzJlt"
      },
      "execution_count": null,
      "outputs": []
    },
    {
      "cell_type": "code",
      "source": [
        "response = model.generate_content(\"fale sobre a linguagem python\")\n",
        "print(\"Resposta\", response.text)"
      ],
      "metadata": {
        "colab": {
          "base_uri": "https://localhost:8080/",
          "height": 610
        },
        "id": "WNCE-GfvzUVb",
        "outputId": "0a134178-5d12-4d30-df7d-564918f74445"
      },
      "execution_count": null,
      "outputs": [
        {
          "output_type": "stream",
          "name": "stdout",
          "text": [
            "Resposta **Introdução**\n",
            "\n",
            "Python é uma linguagem de programação de alto nível, interpretada, orientada a objetos e de propósito geral. Foi projetada com ênfase em legibilidade, simplicidade e facilidade de manutenção do código.\n",
            "\n",
            "**Características**\n",
            "\n",
            "Algumas das características notáveis do Python incluem:\n",
            "\n",
            "* **Tipificação dinâmica:** As variáveis não precisam ter seus tipos declarados explicitamente. O tipo de uma variável é determinado na hora da execução.\n",
            "* **Interpretada:** Os programas Python são executados por um interpretador, em vez de serem compilados em código de máquina.\n",
            "* **Orientada a objetos:** Python suporta conceitos de programação orientados a objetos, como classes, objetos e herança.\n",
            "* **Multiparadigma:** Python suporta vários paradigmas de programação, como programação imperativa, procedural, funcional e orientada a objetos.\n",
            "* **Extensível:** Python pode ser estendido por meio de módulos e pacotes, permitindo que os usuários adicionem novas funcionalidades.\n",
            "* **Legível:** A sintaxe do Python é projetada para ser fácil de ler e escrever, usando palavras-chave em inglês em vez de símbolos complexos.\n",
            "\n",
            "**Aplicações**\n",
            "\n",
            "Python é amplamente utilizado em uma variedade de aplicações, incluindo:\n",
            "\n",
            "* **Desenvolvimento Web:** Frameworks como Django e Flask são usados para criar aplicativos e serviços da Web.\n",
            "* **Ciência de Dados:** Bibliotecas como NumPy, Pandas e Scikit-learn fornecem ferramentas para análise de dados, aprendizado de máquina e estatística.\n",
            "* **Aprendizado de Máquina:** Python é popular para desenvolver e treinar modelos de aprendizado de máquina usando bibliotecas como TensorFlow e PyTorch.\n",
            "* **Automação de Tarefas:** Python pode ser usado para automatizar tarefas repetitivas, como processamento de texto, raspagem da Web e manipulação de arquivos.\n",
            "* **Desenvolvimento de Jogos:** Bibliotecas como PyGame e Panda3D permitem que os desenvolvedores criem jogos 2D e 3D.\n",
            "* **Inteligência Artificial:** Python é usado em aplicações de IA, como processamento de linguagem natural, visão computacional e reconhecimento de fala.\n",
            "\n",
            "**Comunidade e Suporte**\n",
            "\n",
            "Python tem uma grande e ativa comunidade de desenvolvedores que fornecem suporte, documentação e recursos. Existem inúmeros fóruns online, grupos de usuários e documentação oficial disponíveis para ajudar os desenvolvedores.\n",
            "\n",
            "**Conclusão**\n",
            "\n",
            "Python é uma linguagem de programação poderosa e versátil que é amplamente utilizada em uma ampla gama de aplicações. Sua ênfase em legibilidade, simplicidade e fácil manutenção a torna uma escolha popular para desenvolvedores de todos os níveis. Com sua comunidade ativa e suporte abrangente, Python continua a ser uma das principais linguagens de programação na era da computação moderna.\n"
          ]
        }
      ]
    }
  ]
}